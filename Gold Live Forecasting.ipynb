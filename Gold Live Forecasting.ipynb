{
 "cells": [
  {
   "cell_type": "code",
   "execution_count": 16,
   "id": "9a625ae6",
   "metadata": {
    "ExecuteTime": {
     "end_time": "2022-03-14T13:30:44.389453Z",
     "start_time": "2022-03-14T13:30:44.374620Z"
    }
   },
   "outputs": [],
   "source": [
    "import yfinance as yf\n",
    "import datetime as dt\n",
    "import pandas as pd\n",
    "import numpy as np\n",
    "from numpy import arange\n",
    "import matplotlib.pyplot as plt\n",
    "from pandas import read_csv\n",
    "from sklearn import metrics\n",
    "from sklearn.model_selection import train_test_split\n",
    "from sklearn.ensemble import RandomForestRegressor\n",
    "from sklearn.preprocessing import StandardScaler\n",
    "from sklearn.model_selection import RandomizedSearchCV\n",
    "\n",
    "import warnings\n",
    "warnings.filterwarnings('ignore')"
   ]
  },
  {
   "cell_type": "code",
   "execution_count": 24,
   "id": "cf63d7b7",
   "metadata": {
    "ExecuteTime": {
     "end_time": "2022-03-14T13:33:28.175616Z",
     "start_time": "2022-03-14T13:33:28.125744Z"
    }
   },
   "outputs": [],
   "source": [
    "import yfinance as yahooFinance\n",
    " \n",
    " \n",
    "gold_price = yahooFinance.Ticker(\"GC=F\")"
   ]
  },
  {
   "cell_type": "code",
   "execution_count": 25,
   "id": "514c35fa",
   "metadata": {
    "ExecuteTime": {
     "end_time": "2022-03-14T13:33:29.940992Z",
     "start_time": "2022-03-14T13:33:28.643624Z"
    }
   },
   "outputs": [],
   "source": [
    "Data = gold_price.history(period=\"2y\")"
   ]
  },
  {
   "cell_type": "code",
   "execution_count": 26,
   "id": "c1617d5e",
   "metadata": {
    "ExecuteTime": {
     "end_time": "2022-03-14T13:33:30.196280Z",
     "start_time": "2022-03-14T13:33:30.111287Z"
    }
   },
   "outputs": [
    {
     "data": {
      "text/html": [
       "<div>\n",
       "<style scoped>\n",
       "    .dataframe tbody tr th:only-of-type {\n",
       "        vertical-align: middle;\n",
       "    }\n",
       "\n",
       "    .dataframe tbody tr th {\n",
       "        vertical-align: top;\n",
       "    }\n",
       "\n",
       "    .dataframe thead th {\n",
       "        text-align: right;\n",
       "    }\n",
       "</style>\n",
       "<table border=\"1\" class=\"dataframe\">\n",
       "  <thead>\n",
       "    <tr style=\"text-align: right;\">\n",
       "      <th></th>\n",
       "      <th>Open</th>\n",
       "      <th>High</th>\n",
       "      <th>Low</th>\n",
       "      <th>Close</th>\n",
       "      <th>Volume</th>\n",
       "      <th>Dividends</th>\n",
       "      <th>Stock Splits</th>\n",
       "    </tr>\n",
       "    <tr>\n",
       "      <th>Date</th>\n",
       "      <th></th>\n",
       "      <th></th>\n",
       "      <th></th>\n",
       "      <th></th>\n",
       "      <th></th>\n",
       "      <th></th>\n",
       "      <th></th>\n",
       "    </tr>\n",
       "  </thead>\n",
       "  <tbody>\n",
       "    <tr>\n",
       "      <th>2020-03-16</th>\n",
       "      <td>1569.099976</td>\n",
       "      <td>1569.099976</td>\n",
       "      <td>1452.099976</td>\n",
       "      <td>1485.900024</td>\n",
       "      <td>193</td>\n",
       "      <td>0</td>\n",
       "      <td>0</td>\n",
       "    </tr>\n",
       "    <tr>\n",
       "      <th>2020-03-17</th>\n",
       "      <td>1469.300049</td>\n",
       "      <td>1537.699951</td>\n",
       "      <td>1469.300049</td>\n",
       "      <td>1524.900024</td>\n",
       "      <td>122</td>\n",
       "      <td>0</td>\n",
       "      <td>0</td>\n",
       "    </tr>\n",
       "    <tr>\n",
       "      <th>2020-03-18</th>\n",
       "      <td>1537.500000</td>\n",
       "      <td>1542.000000</td>\n",
       "      <td>1477.300049</td>\n",
       "      <td>1477.300049</td>\n",
       "      <td>333</td>\n",
       "      <td>0</td>\n",
       "      <td>0</td>\n",
       "    </tr>\n",
       "    <tr>\n",
       "      <th>2020-03-19</th>\n",
       "      <td>1481.500000</td>\n",
       "      <td>1491.599976</td>\n",
       "      <td>1471.000000</td>\n",
       "      <td>1478.599976</td>\n",
       "      <td>262</td>\n",
       "      <td>0</td>\n",
       "      <td>0</td>\n",
       "    </tr>\n",
       "    <tr>\n",
       "      <th>2020-03-20</th>\n",
       "      <td>1483.500000</td>\n",
       "      <td>1484.000000</td>\n",
       "      <td>1483.500000</td>\n",
       "      <td>1484.000000</td>\n",
       "      <td>14</td>\n",
       "      <td>0</td>\n",
       "      <td>0</td>\n",
       "    </tr>\n",
       "    <tr>\n",
       "      <th>...</th>\n",
       "      <td>...</td>\n",
       "      <td>...</td>\n",
       "      <td>...</td>\n",
       "      <td>...</td>\n",
       "      <td>...</td>\n",
       "      <td>...</td>\n",
       "      <td>...</td>\n",
       "    </tr>\n",
       "    <tr>\n",
       "      <th>2022-03-08</th>\n",
       "      <td>1999.400024</td>\n",
       "      <td>2072.000000</td>\n",
       "      <td>1998.000000</td>\n",
       "      <td>2040.099976</td>\n",
       "      <td>1813</td>\n",
       "      <td>0</td>\n",
       "      <td>0</td>\n",
       "    </tr>\n",
       "    <tr>\n",
       "      <th>2022-03-09</th>\n",
       "      <td>2053.600098</td>\n",
       "      <td>2063.000000</td>\n",
       "      <td>1980.800049</td>\n",
       "      <td>1985.900024</td>\n",
       "      <td>1022</td>\n",
       "      <td>0</td>\n",
       "      <td>0</td>\n",
       "    </tr>\n",
       "    <tr>\n",
       "      <th>2022-03-10</th>\n",
       "      <td>1978.099976</td>\n",
       "      <td>2010.500000</td>\n",
       "      <td>1978.099976</td>\n",
       "      <td>1998.099976</td>\n",
       "      <td>670</td>\n",
       "      <td>0</td>\n",
       "      <td>0</td>\n",
       "    </tr>\n",
       "    <tr>\n",
       "      <th>2022-03-11</th>\n",
       "      <td>1985.000000</td>\n",
       "      <td>1996.000000</td>\n",
       "      <td>1959.900024</td>\n",
       "      <td>1982.699951</td>\n",
       "      <td>670</td>\n",
       "      <td>0</td>\n",
       "      <td>0</td>\n",
       "    </tr>\n",
       "    <tr>\n",
       "      <th>2022-03-14</th>\n",
       "      <td>1988.699951</td>\n",
       "      <td>1994.800049</td>\n",
       "      <td>1956.800049</td>\n",
       "      <td>1965.599976</td>\n",
       "      <td>77129</td>\n",
       "      <td>0</td>\n",
       "      <td>0</td>\n",
       "    </tr>\n",
       "  </tbody>\n",
       "</table>\n",
       "<p>505 rows × 7 columns</p>\n",
       "</div>"
      ],
      "text/plain": [
       "                   Open         High          Low        Close  Volume  \\\n",
       "Date                                                                     \n",
       "2020-03-16  1569.099976  1569.099976  1452.099976  1485.900024     193   \n",
       "2020-03-17  1469.300049  1537.699951  1469.300049  1524.900024     122   \n",
       "2020-03-18  1537.500000  1542.000000  1477.300049  1477.300049     333   \n",
       "2020-03-19  1481.500000  1491.599976  1471.000000  1478.599976     262   \n",
       "2020-03-20  1483.500000  1484.000000  1483.500000  1484.000000      14   \n",
       "...                 ...          ...          ...          ...     ...   \n",
       "2022-03-08  1999.400024  2072.000000  1998.000000  2040.099976    1813   \n",
       "2022-03-09  2053.600098  2063.000000  1980.800049  1985.900024    1022   \n",
       "2022-03-10  1978.099976  2010.500000  1978.099976  1998.099976     670   \n",
       "2022-03-11  1985.000000  1996.000000  1959.900024  1982.699951     670   \n",
       "2022-03-14  1988.699951  1994.800049  1956.800049  1965.599976   77129   \n",
       "\n",
       "            Dividends  Stock Splits  \n",
       "Date                                 \n",
       "2020-03-16          0             0  \n",
       "2020-03-17          0             0  \n",
       "2020-03-18          0             0  \n",
       "2020-03-19          0             0  \n",
       "2020-03-20          0             0  \n",
       "...               ...           ...  \n",
       "2022-03-08          0             0  \n",
       "2022-03-09          0             0  \n",
       "2022-03-10          0             0  \n",
       "2022-03-11          0             0  \n",
       "2022-03-14          0             0  \n",
       "\n",
       "[505 rows x 7 columns]"
      ]
     },
     "execution_count": 26,
     "metadata": {},
     "output_type": "execute_result"
    }
   ],
   "source": [
    "Data"
   ]
  },
  {
   "cell_type": "markdown",
   "id": "1cbcc0c4",
   "metadata": {},
   "source": [
    "# Upsampling"
   ]
  },
  {
   "cell_type": "code",
   "execution_count": 45,
   "id": "68126bb2",
   "metadata": {
    "ExecuteTime": {
     "end_time": "2022-03-14T13:52:38.356109Z",
     "start_time": "2022-03-14T13:52:38.278112Z"
    }
   },
   "outputs": [
    {
     "data": {
      "text/html": [
       "<div>\n",
       "<style scoped>\n",
       "    .dataframe tbody tr th:only-of-type {\n",
       "        vertical-align: middle;\n",
       "    }\n",
       "\n",
       "    .dataframe tbody tr th {\n",
       "        vertical-align: top;\n",
       "    }\n",
       "\n",
       "    .dataframe thead th {\n",
       "        text-align: right;\n",
       "    }\n",
       "</style>\n",
       "<table border=\"1\" class=\"dataframe\">\n",
       "  <thead>\n",
       "    <tr style=\"text-align: right;\">\n",
       "      <th></th>\n",
       "      <th>Open</th>\n",
       "      <th>High</th>\n",
       "      <th>Low</th>\n",
       "      <th>Close</th>\n",
       "      <th>Volume</th>\n",
       "      <th>Dividends</th>\n",
       "      <th>Stock Splits</th>\n",
       "    </tr>\n",
       "    <tr>\n",
       "      <th>Date</th>\n",
       "      <th></th>\n",
       "      <th></th>\n",
       "      <th></th>\n",
       "      <th></th>\n",
       "      <th></th>\n",
       "      <th></th>\n",
       "      <th></th>\n",
       "    </tr>\n",
       "  </thead>\n",
       "  <tbody>\n",
       "    <tr>\n",
       "      <th>2020-03-16</th>\n",
       "      <td>1569.099976</td>\n",
       "      <td>1569.099976</td>\n",
       "      <td>1452.099976</td>\n",
       "      <td>1485.900024</td>\n",
       "      <td>193.0</td>\n",
       "      <td>0.0</td>\n",
       "      <td>0.0</td>\n",
       "    </tr>\n",
       "    <tr>\n",
       "      <th>2020-03-17</th>\n",
       "      <td>1469.300049</td>\n",
       "      <td>1537.699951</td>\n",
       "      <td>1469.300049</td>\n",
       "      <td>1524.900024</td>\n",
       "      <td>122.0</td>\n",
       "      <td>0.0</td>\n",
       "      <td>0.0</td>\n",
       "    </tr>\n",
       "    <tr>\n",
       "      <th>2020-03-18</th>\n",
       "      <td>1537.500000</td>\n",
       "      <td>1542.000000</td>\n",
       "      <td>1477.300049</td>\n",
       "      <td>1477.300049</td>\n",
       "      <td>333.0</td>\n",
       "      <td>0.0</td>\n",
       "      <td>0.0</td>\n",
       "    </tr>\n",
       "    <tr>\n",
       "      <th>2020-03-19</th>\n",
       "      <td>1481.500000</td>\n",
       "      <td>1491.599976</td>\n",
       "      <td>1471.000000</td>\n",
       "      <td>1478.599976</td>\n",
       "      <td>262.0</td>\n",
       "      <td>0.0</td>\n",
       "      <td>0.0</td>\n",
       "    </tr>\n",
       "    <tr>\n",
       "      <th>2020-03-20</th>\n",
       "      <td>1483.500000</td>\n",
       "      <td>1484.000000</td>\n",
       "      <td>1483.500000</td>\n",
       "      <td>1484.000000</td>\n",
       "      <td>14.0</td>\n",
       "      <td>0.0</td>\n",
       "      <td>0.0</td>\n",
       "    </tr>\n",
       "    <tr>\n",
       "      <th>2020-03-21</th>\n",
       "      <td>NaN</td>\n",
       "      <td>NaN</td>\n",
       "      <td>NaN</td>\n",
       "      <td>NaN</td>\n",
       "      <td>NaN</td>\n",
       "      <td>NaN</td>\n",
       "      <td>NaN</td>\n",
       "    </tr>\n",
       "    <tr>\n",
       "      <th>2020-03-22</th>\n",
       "      <td>NaN</td>\n",
       "      <td>NaN</td>\n",
       "      <td>NaN</td>\n",
       "      <td>NaN</td>\n",
       "      <td>NaN</td>\n",
       "      <td>NaN</td>\n",
       "      <td>NaN</td>\n",
       "    </tr>\n",
       "  </tbody>\n",
       "</table>\n",
       "</div>"
      ],
      "text/plain": [
       "                   Open         High          Low        Close  Volume  \\\n",
       "Date                                                                     \n",
       "2020-03-16  1569.099976  1569.099976  1452.099976  1485.900024   193.0   \n",
       "2020-03-17  1469.300049  1537.699951  1469.300049  1524.900024   122.0   \n",
       "2020-03-18  1537.500000  1542.000000  1477.300049  1477.300049   333.0   \n",
       "2020-03-19  1481.500000  1491.599976  1471.000000  1478.599976   262.0   \n",
       "2020-03-20  1483.500000  1484.000000  1483.500000  1484.000000    14.0   \n",
       "2020-03-21          NaN          NaN          NaN          NaN     NaN   \n",
       "2020-03-22          NaN          NaN          NaN          NaN     NaN   \n",
       "\n",
       "            Dividends  Stock Splits  \n",
       "Date                                 \n",
       "2020-03-16        0.0           0.0  \n",
       "2020-03-17        0.0           0.0  \n",
       "2020-03-18        0.0           0.0  \n",
       "2020-03-19        0.0           0.0  \n",
       "2020-03-20        0.0           0.0  \n",
       "2020-03-21        NaN           NaN  \n",
       "2020-03-22        NaN           NaN  "
      ]
     },
     "execution_count": 45,
     "metadata": {},
     "output_type": "execute_result"
    }
   ],
   "source": [
    "data = Data.resample('D').mean()\n",
    "data.head(7)"
   ]
  },
  {
   "cell_type": "code",
   "execution_count": 47,
   "id": "8b52d7e9",
   "metadata": {
    "ExecuteTime": {
     "end_time": "2022-03-14T13:53:12.255893Z",
     "start_time": "2022-03-14T13:53:12.180899Z"
    }
   },
   "outputs": [
    {
     "data": {
      "text/html": [
       "<div>\n",
       "<style scoped>\n",
       "    .dataframe tbody tr th:only-of-type {\n",
       "        vertical-align: middle;\n",
       "    }\n",
       "\n",
       "    .dataframe tbody tr th {\n",
       "        vertical-align: top;\n",
       "    }\n",
       "\n",
       "    .dataframe thead th {\n",
       "        text-align: right;\n",
       "    }\n",
       "</style>\n",
       "<table border=\"1\" class=\"dataframe\">\n",
       "  <thead>\n",
       "    <tr style=\"text-align: right;\">\n",
       "      <th></th>\n",
       "      <th>Open</th>\n",
       "      <th>High</th>\n",
       "      <th>Low</th>\n",
       "      <th>Close</th>\n",
       "      <th>Volume</th>\n",
       "      <th>Dividends</th>\n",
       "      <th>Stock Splits</th>\n",
       "    </tr>\n",
       "    <tr>\n",
       "      <th>Date</th>\n",
       "      <th></th>\n",
       "      <th></th>\n",
       "      <th></th>\n",
       "      <th></th>\n",
       "      <th></th>\n",
       "      <th></th>\n",
       "      <th></th>\n",
       "    </tr>\n",
       "  </thead>\n",
       "  <tbody>\n",
       "    <tr>\n",
       "      <th>2020-03-16</th>\n",
       "      <td>1569.099976</td>\n",
       "      <td>1569.099976</td>\n",
       "      <td>1452.099976</td>\n",
       "      <td>1485.900024</td>\n",
       "      <td>193.000000</td>\n",
       "      <td>0.0</td>\n",
       "      <td>0.0</td>\n",
       "    </tr>\n",
       "    <tr>\n",
       "      <th>2020-03-17</th>\n",
       "      <td>1469.300049</td>\n",
       "      <td>1537.699951</td>\n",
       "      <td>1469.300049</td>\n",
       "      <td>1524.900024</td>\n",
       "      <td>122.000000</td>\n",
       "      <td>0.0</td>\n",
       "      <td>0.0</td>\n",
       "    </tr>\n",
       "    <tr>\n",
       "      <th>2020-03-18</th>\n",
       "      <td>1537.500000</td>\n",
       "      <td>1542.000000</td>\n",
       "      <td>1477.300049</td>\n",
       "      <td>1477.300049</td>\n",
       "      <td>333.000000</td>\n",
       "      <td>0.0</td>\n",
       "      <td>0.0</td>\n",
       "    </tr>\n",
       "    <tr>\n",
       "      <th>2020-03-19</th>\n",
       "      <td>1481.500000</td>\n",
       "      <td>1491.599976</td>\n",
       "      <td>1471.000000</td>\n",
       "      <td>1478.599976</td>\n",
       "      <td>262.000000</td>\n",
       "      <td>0.0</td>\n",
       "      <td>0.0</td>\n",
       "    </tr>\n",
       "    <tr>\n",
       "      <th>2020-03-20</th>\n",
       "      <td>1483.500000</td>\n",
       "      <td>1484.000000</td>\n",
       "      <td>1483.500000</td>\n",
       "      <td>1484.000000</td>\n",
       "      <td>14.000000</td>\n",
       "      <td>0.0</td>\n",
       "      <td>0.0</td>\n",
       "    </tr>\n",
       "    <tr>\n",
       "      <th>2020-03-21</th>\n",
       "      <td>1490.766683</td>\n",
       "      <td>1511.666667</td>\n",
       "      <td>1485.733317</td>\n",
       "      <td>1511.666667</td>\n",
       "      <td>26.333333</td>\n",
       "      <td>0.0</td>\n",
       "      <td>0.0</td>\n",
       "    </tr>\n",
       "    <tr>\n",
       "      <th>2020-03-22</th>\n",
       "      <td>1498.033366</td>\n",
       "      <td>1539.333333</td>\n",
       "      <td>1487.966634</td>\n",
       "      <td>1539.333333</td>\n",
       "      <td>38.666667</td>\n",
       "      <td>0.0</td>\n",
       "      <td>0.0</td>\n",
       "    </tr>\n",
       "  </tbody>\n",
       "</table>\n",
       "</div>"
      ],
      "text/plain": [
       "                   Open         High          Low        Close      Volume  \\\n",
       "Date                                                                         \n",
       "2020-03-16  1569.099976  1569.099976  1452.099976  1485.900024  193.000000   \n",
       "2020-03-17  1469.300049  1537.699951  1469.300049  1524.900024  122.000000   \n",
       "2020-03-18  1537.500000  1542.000000  1477.300049  1477.300049  333.000000   \n",
       "2020-03-19  1481.500000  1491.599976  1471.000000  1478.599976  262.000000   \n",
       "2020-03-20  1483.500000  1484.000000  1483.500000  1484.000000   14.000000   \n",
       "2020-03-21  1490.766683  1511.666667  1485.733317  1511.666667   26.333333   \n",
       "2020-03-22  1498.033366  1539.333333  1487.966634  1539.333333   38.666667   \n",
       "\n",
       "            Dividends  Stock Splits  \n",
       "Date                                 \n",
       "2020-03-16        0.0           0.0  \n",
       "2020-03-17        0.0           0.0  \n",
       "2020-03-18        0.0           0.0  \n",
       "2020-03-19        0.0           0.0  \n",
       "2020-03-20        0.0           0.0  \n",
       "2020-03-21        0.0           0.0  \n",
       "2020-03-22        0.0           0.0  "
      ]
     },
     "execution_count": 47,
     "metadata": {},
     "output_type": "execute_result"
    }
   ],
   "source": [
    "price= data.interpolate(method = 'linear')\n",
    "price.head(7)"
   ]
  },
  {
   "cell_type": "markdown",
   "id": "162a195a",
   "metadata": {
    "ExecuteTime": {
     "end_time": "2022-03-14T13:34:05.917822Z",
     "start_time": "2022-03-14T13:34:05.855831Z"
    }
   },
   "source": [
    " Price = pd.DataFrame(Data)\n",
    "Price.to_csv(\"Forecast data.csv\")"
   ]
  },
  {
   "cell_type": "code",
   "execution_count": 49,
   "id": "31efd0ba",
   "metadata": {
    "ExecuteTime": {
     "end_time": "2022-03-14T13:53:26.899156Z",
     "start_time": "2022-03-14T13:53:26.805155Z"
    }
   },
   "outputs": [
    {
     "data": {
      "text/html": [
       "<div>\n",
       "<style scoped>\n",
       "    .dataframe tbody tr th:only-of-type {\n",
       "        vertical-align: middle;\n",
       "    }\n",
       "\n",
       "    .dataframe tbody tr th {\n",
       "        vertical-align: top;\n",
       "    }\n",
       "\n",
       "    .dataframe thead th {\n",
       "        text-align: right;\n",
       "    }\n",
       "</style>\n",
       "<table border=\"1\" class=\"dataframe\">\n",
       "  <thead>\n",
       "    <tr style=\"text-align: right;\">\n",
       "      <th></th>\n",
       "      <th>Open</th>\n",
       "      <th>High</th>\n",
       "      <th>Low</th>\n",
       "      <th>Close</th>\n",
       "      <th>Volume</th>\n",
       "      <th>Dividends</th>\n",
       "      <th>Stock Splits</th>\n",
       "    </tr>\n",
       "    <tr>\n",
       "      <th>Date</th>\n",
       "      <th></th>\n",
       "      <th></th>\n",
       "      <th></th>\n",
       "      <th></th>\n",
       "      <th></th>\n",
       "      <th></th>\n",
       "      <th></th>\n",
       "    </tr>\n",
       "  </thead>\n",
       "  <tbody>\n",
       "    <tr>\n",
       "      <th>2020-03-16</th>\n",
       "      <td>1569.099976</td>\n",
       "      <td>1569.099976</td>\n",
       "      <td>1452.099976</td>\n",
       "      <td>1485.900024</td>\n",
       "      <td>193.000000</td>\n",
       "      <td>0.0</td>\n",
       "      <td>0.0</td>\n",
       "    </tr>\n",
       "    <tr>\n",
       "      <th>2020-03-17</th>\n",
       "      <td>1469.300049</td>\n",
       "      <td>1537.699951</td>\n",
       "      <td>1469.300049</td>\n",
       "      <td>1524.900024</td>\n",
       "      <td>122.000000</td>\n",
       "      <td>0.0</td>\n",
       "      <td>0.0</td>\n",
       "    </tr>\n",
       "    <tr>\n",
       "      <th>2020-03-18</th>\n",
       "      <td>1537.500000</td>\n",
       "      <td>1542.000000</td>\n",
       "      <td>1477.300049</td>\n",
       "      <td>1477.300049</td>\n",
       "      <td>333.000000</td>\n",
       "      <td>0.0</td>\n",
       "      <td>0.0</td>\n",
       "    </tr>\n",
       "    <tr>\n",
       "      <th>2020-03-19</th>\n",
       "      <td>1481.500000</td>\n",
       "      <td>1491.599976</td>\n",
       "      <td>1471.000000</td>\n",
       "      <td>1478.599976</td>\n",
       "      <td>262.000000</td>\n",
       "      <td>0.0</td>\n",
       "      <td>0.0</td>\n",
       "    </tr>\n",
       "    <tr>\n",
       "      <th>2020-03-20</th>\n",
       "      <td>1483.500000</td>\n",
       "      <td>1484.000000</td>\n",
       "      <td>1483.500000</td>\n",
       "      <td>1484.000000</td>\n",
       "      <td>14.000000</td>\n",
       "      <td>0.0</td>\n",
       "      <td>0.0</td>\n",
       "    </tr>\n",
       "    <tr>\n",
       "      <th>...</th>\n",
       "      <td>...</td>\n",
       "      <td>...</td>\n",
       "      <td>...</td>\n",
       "      <td>...</td>\n",
       "      <td>...</td>\n",
       "      <td>...</td>\n",
       "      <td>...</td>\n",
       "    </tr>\n",
       "    <tr>\n",
       "      <th>2022-03-10</th>\n",
       "      <td>1978.099976</td>\n",
       "      <td>2010.500000</td>\n",
       "      <td>1978.099976</td>\n",
       "      <td>1998.099976</td>\n",
       "      <td>670.000000</td>\n",
       "      <td>0.0</td>\n",
       "      <td>0.0</td>\n",
       "    </tr>\n",
       "    <tr>\n",
       "      <th>2022-03-11</th>\n",
       "      <td>1985.000000</td>\n",
       "      <td>1996.000000</td>\n",
       "      <td>1959.900024</td>\n",
       "      <td>1982.699951</td>\n",
       "      <td>670.000000</td>\n",
       "      <td>0.0</td>\n",
       "      <td>0.0</td>\n",
       "    </tr>\n",
       "    <tr>\n",
       "      <th>2022-03-12</th>\n",
       "      <td>1986.233317</td>\n",
       "      <td>1995.600016</td>\n",
       "      <td>1958.866699</td>\n",
       "      <td>1976.999959</td>\n",
       "      <td>26156.333333</td>\n",
       "      <td>0.0</td>\n",
       "      <td>0.0</td>\n",
       "    </tr>\n",
       "    <tr>\n",
       "      <th>2022-03-13</th>\n",
       "      <td>1987.466634</td>\n",
       "      <td>1995.200033</td>\n",
       "      <td>1957.833374</td>\n",
       "      <td>1971.299967</td>\n",
       "      <td>51642.666667</td>\n",
       "      <td>0.0</td>\n",
       "      <td>0.0</td>\n",
       "    </tr>\n",
       "    <tr>\n",
       "      <th>2022-03-14</th>\n",
       "      <td>1988.699951</td>\n",
       "      <td>1994.800049</td>\n",
       "      <td>1956.800049</td>\n",
       "      <td>1965.599976</td>\n",
       "      <td>77129.000000</td>\n",
       "      <td>0.0</td>\n",
       "      <td>0.0</td>\n",
       "    </tr>\n",
       "  </tbody>\n",
       "</table>\n",
       "<p>729 rows × 7 columns</p>\n",
       "</div>"
      ],
      "text/plain": [
       "                   Open         High          Low        Close        Volume  \\\n",
       "Date                                                                           \n",
       "2020-03-16  1569.099976  1569.099976  1452.099976  1485.900024    193.000000   \n",
       "2020-03-17  1469.300049  1537.699951  1469.300049  1524.900024    122.000000   \n",
       "2020-03-18  1537.500000  1542.000000  1477.300049  1477.300049    333.000000   \n",
       "2020-03-19  1481.500000  1491.599976  1471.000000  1478.599976    262.000000   \n",
       "2020-03-20  1483.500000  1484.000000  1483.500000  1484.000000     14.000000   \n",
       "...                 ...          ...          ...          ...           ...   \n",
       "2022-03-10  1978.099976  2010.500000  1978.099976  1998.099976    670.000000   \n",
       "2022-03-11  1985.000000  1996.000000  1959.900024  1982.699951    670.000000   \n",
       "2022-03-12  1986.233317  1995.600016  1958.866699  1976.999959  26156.333333   \n",
       "2022-03-13  1987.466634  1995.200033  1957.833374  1971.299967  51642.666667   \n",
       "2022-03-14  1988.699951  1994.800049  1956.800049  1965.599976  77129.000000   \n",
       "\n",
       "            Dividends  Stock Splits  \n",
       "Date                                 \n",
       "2020-03-16        0.0           0.0  \n",
       "2020-03-17        0.0           0.0  \n",
       "2020-03-18        0.0           0.0  \n",
       "2020-03-19        0.0           0.0  \n",
       "2020-03-20        0.0           0.0  \n",
       "...               ...           ...  \n",
       "2022-03-10        0.0           0.0  \n",
       "2022-03-11        0.0           0.0  \n",
       "2022-03-12        0.0           0.0  \n",
       "2022-03-13        0.0           0.0  \n",
       "2022-03-14        0.0           0.0  \n",
       "\n",
       "[729 rows x 7 columns]"
      ]
     },
     "execution_count": 49,
     "metadata": {},
     "output_type": "execute_result"
    }
   ],
   "source": [
    "price"
   ]
  },
  {
   "cell_type": "code",
   "execution_count": 51,
   "id": "68bb8ec0",
   "metadata": {
    "ExecuteTime": {
     "end_time": "2022-03-14T13:54:23.899161Z",
     "start_time": "2022-03-14T13:54:23.876167Z"
    }
   },
   "outputs": [],
   "source": [
    "x = price.drop(['Close'],axis =1)\n",
    "y = price['Close']"
   ]
  },
  {
   "cell_type": "code",
   "execution_count": 52,
   "id": "79939c7f",
   "metadata": {
    "ExecuteTime": {
     "end_time": "2022-03-14T13:54:25.970529Z",
     "start_time": "2022-03-14T13:54:25.946663Z"
    }
   },
   "outputs": [],
   "source": [
    "x_train, x_test, y_train, y_test = train_test_split(x, y, test_size=0.26,  random_state=0)"
   ]
  },
  {
   "cell_type": "code",
   "execution_count": 53,
   "id": "62e277ea",
   "metadata": {
    "ExecuteTime": {
     "end_time": "2022-03-14T13:54:26.479152Z",
     "start_time": "2022-03-14T13:54:26.435150Z"
    }
   },
   "outputs": [],
   "source": [
    "scale = StandardScaler()\n",
    "x_train = scale.fit_transform(x_train)\n",
    "x_test = scale.transform(x_test)"
   ]
  },
  {
   "cell_type": "code",
   "execution_count": 54,
   "id": "f5333b00",
   "metadata": {
    "ExecuteTime": {
     "end_time": "2022-03-14T14:00:02.641626Z",
     "start_time": "2022-03-14T13:54:27.358746Z"
    }
   },
   "outputs": [
    {
     "name": "stdout",
     "output_type": "stream",
     "text": [
      "Fitting 3 folds for each of 200 candidates, totalling 600 fits\n",
      "{'random_state': 1, 'n_estimators': 1000, 'min_samples_split': 2, 'min_samples_leaf': 1, 'max_depth': 9, 'bootstrap': True}\n"
     ]
    }
   ],
   "source": [
    "grid_rf = {\n",
    "'n_estimators': [20, 50, 100, 500, 1000],  \n",
    "'max_depth': np.arange(1, 15, 1),  \n",
    "'min_samples_split': [2, 10, 9], \n",
    "'min_samples_leaf': np.arange(1, 15, 2, dtype=int),  \n",
    "'bootstrap': [True, False], \n",
    "'random_state': [1, 2, 30, 42]\n",
    "}\n",
    "rscv = RandomizedSearchCV(estimator=model, param_distributions=grid_rf, cv=3, n_jobs=-1, verbose=2, n_iter=200)\n",
    "rscv_fit = rscv.fit(x_train, y_train)\n",
    "best_parameters = rscv_fit.best_params_\n",
    "print(best_parameters)"
   ]
  },
  {
   "cell_type": "code",
   "execution_count": 55,
   "id": "b370c02a",
   "metadata": {
    "ExecuteTime": {
     "end_time": "2022-03-14T14:00:36.465272Z",
     "start_time": "2022-03-14T14:00:35.690934Z"
    }
   },
   "outputs": [
    {
     "name": "stdout",
     "output_type": "stream",
     "text": [
      "[1806.15497644 1890.6437818  1725.61200353 1777.00915252 1800.69851273\n",
      " 1784.218689   1777.28356196 1723.29043283 1733.4603574  1639.14265991\n",
      " 1836.52408912 1893.31833457 1904.28286438 1897.85111587 1833.70315611\n",
      " 1697.83740776 1815.66591939 1725.92485933 1795.72715973 1928.58595654\n",
      " 1851.42507832 1744.12039111 1836.48297111 1897.09694003 1734.50781476\n",
      " 1905.47363074 1807.93050645 1783.27228309 1625.78672614 1739.17325931\n",
      " 1725.34870229 1918.89012979 1749.61546293 1797.84098295 1778.76390311\n",
      " 1757.02238204 1902.24239896 1732.95383318 1776.53276422 1489.11100464\n",
      " 1702.78123448 1832.26346297 1886.52760427 1777.40764859 1951.47442408\n",
      " 1812.57686737 1802.85883573 1847.77881355 1863.40900015 1758.03457447\n",
      " 1782.91050552 1786.17535286 1803.14047459 1847.4022174  1785.38161749\n",
      " 1777.71343957 1800.63792664 1874.59168657 1905.80436798 1785.39009288\n",
      " 1834.32825237 1933.48609326 1882.16450127 1736.43818647 1815.04184168\n",
      " 1831.12480791 1810.24045848 1800.362445   1776.31376597 1801.5275206\n",
      " 1750.21722406 1801.98276754 1728.99939974 1697.70507249 1709.23562569\n",
      " 1845.26938312 1861.18413413 1755.01146327 1920.86417053 1864.73197579\n",
      " 1866.72931943 1703.36516821 1778.83397239 1814.78710748 1935.92974323\n",
      " 1822.96437989 1799.30547246 1691.56355719 1647.7803536  1724.12442946\n",
      " 1790.43163554 1961.36999374 1798.66629316 2013.25933024 1823.1538765\n",
      " 1857.85009794 1779.84078981 1843.53858237 1816.53789771 1842.77672324\n",
      " 1836.28409038 1789.11591741 1802.87909273 1932.61574567 1791.49056078\n",
      " 1899.70743663 1776.25199207 1717.88287703 1810.88752535 1882.75401246\n",
      " 1839.35310557 1703.08883131 1814.18018929 1929.98018969 1773.85035935\n",
      " 1751.77969245 1936.46366516 1810.60452871 1709.27223506 2015.68700195\n",
      " 1699.46064826 1771.64072786 1786.4808862  1844.33951079 1628.42466715\n",
      " 1849.27190898 1775.89965004 1729.46318061 1749.94016133 1810.67309854\n",
      " 1704.81148101 1760.51685456 1812.24215875 1903.28210975 1871.26875724\n",
      " 1895.52692765 1984.12173362 1790.96764655 1810.98653076 1807.83260063\n",
      " 1739.98518822 1825.8707992  1949.63424634 1770.08177931 1952.84060844\n",
      " 1757.4388371  1818.57378295 1725.79618964 1799.81237789 1899.30905839\n",
      " 1882.4453056  1599.28632894 1834.70016177 1930.9175529  1898.43826215\n",
      " 1797.30065262 1879.11065849 1816.29558539 1807.74264887 1820.4487774\n",
      " 1854.53091544 1692.98163112 1853.70410334 1752.43646952 1811.22527066\n",
      " 1781.8920821  1774.44720965 1971.79468872 1854.30401585 1785.229245\n",
      " 1835.42382854 1775.5202661  1730.01365643 1686.94100727 2014.17233317\n",
      " 1885.16770342 1660.17550863 1729.57413148 1970.01985412 1697.10950839\n",
      " 1793.03142102 1906.51243473 1812.58443665 1741.86351692 1781.14218612\n",
      " 1796.65271187 1832.612373   1781.00145578 1724.08316519 1764.68882076]\n",
      "(190,)\n"
     ]
    }
   ],
   "source": [
    "model = RandomForestRegressor(n_estimators=100, random_state=1, min_samples_split=2, min_samples_leaf=1, max_depth=9, bootstrap=True)\n",
    "model.fit(x_train, y_train)\n",
    "predict = model.predict(x_test)\n",
    "print(predict)\n",
    "print(predict.shape)"
   ]
  },
  {
   "cell_type": "code",
   "execution_count": 56,
   "id": "ae32c745",
   "metadata": {
    "ExecuteTime": {
     "end_time": "2022-03-14T14:00:49.145075Z",
     "start_time": "2022-03-14T14:00:48.978259Z"
    }
   },
   "outputs": [
    {
     "name": "stdout",
     "output_type": "stream",
     "text": [
      "Mean Absolute Error: 5.3817\n",
      "Mean Squared Error: 61.8038\n",
      "Root Mean Squared Error: 7.8615\n",
      "(R^2) Score: 0.9902\n",
      "Train Score : 99.83% and Test Score : 99.02% using Random Tree Regressor.\n",
      "Accuracy: 99.7 %.\n"
     ]
    }
   ],
   "source": [
    "print(\"Mean Absolute Error:\", round(metrics.mean_absolute_error(y_test, predict), 4))\n",
    "print(\"Mean Squared Error:\", round(metrics.mean_squared_error(y_test, predict), 4))\n",
    "print(\"Root Mean Squared Error:\", round(np.sqrt(metrics.mean_squared_error(y_test, predict)), 4))\n",
    "print(\"(R^2) Score:\", round(metrics.r2_score(y_test, predict), 4))\n",
    "print(f'Train Score : {model.score(x_train, y_train) * 100:.2f}% and Test Score : {model.score(x_test, y_test) * 100:.2f}% using Random Tree Regressor.')\n",
    "errors = abs(predict - y_test)\n",
    "mape = 100 * (errors / y_test)\n",
    "accuracy = 100 - np.mean(mape)\n",
    "print('Accuracy:', round(accuracy, 2), '%.') "
   ]
  },
  {
   "cell_type": "code",
   "execution_count": 59,
   "id": "c2a39cf8",
   "metadata": {
    "ExecuteTime": {
     "end_time": "2022-03-14T14:10:06.843827Z",
     "start_time": "2022-03-14T14:10:06.761721Z"
    }
   },
   "outputs": [],
   "source": [
    "predictions = pd.DataFrame({\"Predictions\": predict}, index=pd.date_range(start=data.index[-1], periods=len(predict), freq=\"D\"))\n",
    "predictions.to_csv(\"Predicted-price-data.csv\")\n",
    "#colllects future days from predicted values\n",
    "\n",
    "onemonth_df = pd.DataFrame(predictions[:21])\n",
    "onemonth_df.to_csv(\"one-month-predictions.csv\")\n"
   ]
  },
  {
   "cell_type": "code",
   "execution_count": 61,
   "id": "c8c65ca1",
   "metadata": {
    "ExecuteTime": {
     "end_time": "2022-03-14T14:10:37.538008Z",
     "start_time": "2022-03-14T14:10:35.627353Z"
    }
   },
   "outputs": [
    {
     "name": "stdout",
     "output_type": "stream",
     "text": [
      "Buy price and date\n",
      "   Unnamed: 0  Predictions\n",
      "9  2022-03-23   1639.14266\n",
      "Sell price and date\n",
      "    Unnamed: 0  Predictions\n",
      "19  2022-04-02  1928.585957\n"
     ]
    },
    {
     "data": {
      "image/png": "[encoded data removed]",
      "text/plain": [
       "<Figure size 720x360 with 1 Axes>"
      ]
     },
     "metadata": {
      "needs_background": "light"
     },
     "output_type": "display_data"
    }
   ],
   "source": [
    "#onemonth_df_pred = pd.read_csv(\"one-month-predictions.csv\")\n",
    "#onemonth_df_pred.set_index(\"Date\", inplace=True)\n",
    "buy_price = min(onemonth_df_pred[\"Predictions\"])\n",
    "sell_price = max(onemonth_df_pred[\"Predictions\"])\n",
    "onemonth_buy = onemonth_df_pred.loc[onemonth_df_pred[\"Predictions\"] == buy_price]\n",
    "onemonth_sell = onemonth_df_pred.loc[onemonth_df_pred[\"Predictions\"] == sell_price]\n",
    "print(\"Buy price and date\")\n",
    "print(onemonth_buy)\n",
    "print(\"Sell price and date\")\n",
    "print(onemonth_sell)\n",
    "onemonth_df_pred[\"Predictions\"].plot(figsize=(10, 5), title=\"Forecast for the next 1 month\", color=\"blue\")\n",
    "plt.xlabel(\"Date\")\n",
    "plt.ylabel(\"Price\")\n",
    "plt.legend()\n",
    "plt.show()"
   ]
  },
  {
   "cell_type": "code",
   "execution_count": null,
   "id": "6f53bef0",
   "metadata": {},
   "outputs": [],
   "source": []
  }
 ],
 "metadata": {
  "kernelspec": {
   "display_name": "Python 3",
   "language": "python",
   "name": "python3"
  },
  "language_info": {
   "codemirror_mode": {
    "name": "ipython",
    "version": 3
   },
   "file_extension": ".py",
   "mimetype": "text/x-python",
   "name": "python",
   "nbconvert_exporter": "python",
   "pygments_lexer": "ipython3",
   "version": "3.8.8"
  },
  "varInspector": {
   "cols": {
    "lenName": 16,
    "lenType": 16,
    "lenVar": 40
   },
   "kernels_config": {
    "python": {
     "delete_cmd_postfix": "",
     "delete_cmd_prefix": "del ",
     "library": "var_list.py",
     "varRefreshCmd": "print(var_dic_list())"
    },
    "r": {
     "delete_cmd_postfix": ") ",
     "delete_cmd_prefix": "rm(",
     "library": "var_list.r",
     "varRefreshCmd": "cat(var_dic_list()) "
    }
   },
   "types_to_exclude": [
    "module",
    "function",
    "builtin_function_or_method",
    "instance",
    "_Feature"
   ],
   "window_display": false
  }
 },
 "nbformat": 4,
 "nbformat_minor": 5
}
